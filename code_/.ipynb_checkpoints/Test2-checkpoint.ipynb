{
 "cells": [
  {
   "cell_type": "code",
   "execution_count": null,
   "metadata": {},
   "outputs": [],
   "source": [
    "import requests\n",
    "import json\n",
    "import datetime\n",
    "import math\n",
    "import numpy as np\n",
    "from datetime import datetime\n",
    "import time\n",
    "\n",
    "def meters(lat1, lon1, lat2, lon2):  # geo measurement function\n",
    "    R = 6378.137 # Radius of earth in KM\n",
    "    dLat = lat2 * math.pi / 180 - lat1 * math.pi / 180\n",
    "    dLon = lon2 * math.pi / 180 - lon1 * math.pi / 180\n",
    "    a = math.sin(dLat/2) * math.sin(dLat/2) + math.cos(lat1 * math.pi / 180) * math.cos(lat2 * math.pi / 180) * math.sin(dLon/2) * math.sin(dLon/2);\n",
    "    c = 2 * math.atan2(math.sqrt(a), math.sqrt(1-a));\n",
    "    d = R * c\n",
    "    return d * 1000 # meters\n",
    "\n",
    "def timediff(date1, time1, date2, time2):\n",
    "    if (date1 == date2):\n",
    "        FMT = '%H:%M:%S'\n",
    "        tdelta = datetime.strptime(time2, FMT) - datetime.strptime(time1, FMT)\n",
    "        return tdelta.seconds/60 # Time diff in minutes\n",
    "\n",
    "data = []\n",
    "samplepoints = []\n",
    "toberemovedindex = [3333,3333]\n",
    "\n",
    "#send_url = 'http://freegeoip.net/json'\n",
    "#r = requests.get(send_url)\n",
    "#j = json.loads(r.text)\n",
    "#lat = j['latitude']\n",
    "#lon = j['longitude']\n",
    "#print (lat, lon)\n",
    "\n",
    "data = np.genfromtxt(open('/home/shashank/Downloads/Geolife Trajectories 1.3/Data/000/Trajectory/20081023025304.plt','r'),skip_header = 6, delimiter=',', dtype=None, encoding='utf8')\n",
    "#print (data)\n",
    "print (\"------------------------------------------\")\n",
    "\n",
    "#print(meters(10,11,12,13))\n",
    "#print(meters(data[0][0],data[0][1],data[1][0],data[1][1]))\n",
    "for i in range(0, 907):\n",
    "    for j in range(1, 907):\n",
    "        if (i!= j and meters(data[i][0], data[i][1], data[j][0], data[j][1] <= 50) and timediff(data[i][5], data[i][6], data[j][5], data[j][6])<= 30):\n",
    "            toberemovedindex.append(j)\n",
    "            #print(\"HI\")\n",
    "print(\"HI\")\n",
    "print(toberemovedindex)\n"
   ]
  },
  {
   "cell_type": "code",
   "execution_count": null,
   "metadata": {},
   "outputs": [],
   "source": []
  },
  {
   "cell_type": "code",
   "execution_count": null,
   "metadata": {},
   "outputs": [],
   "source": []
  }
 ],
 "metadata": {
  "kernelspec": {
   "display_name": "Python 3",
   "language": "python",
   "name": "python3"
  },
  "language_info": {
   "codemirror_mode": {
    "name": "ipython",
    "version": 3
   },
   "file_extension": ".py",
   "mimetype": "text/x-python",
   "name": "python",
   "nbconvert_exporter": "python",
   "pygments_lexer": "ipython3",
   "version": "3.6.4"
  }
 },
 "nbformat": 4,
 "nbformat_minor": 2
}
