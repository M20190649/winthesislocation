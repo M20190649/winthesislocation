{
 "cells": [
  {
   "cell_type": "code",
   "execution_count": null,
   "metadata": {},
   "outputs": [],
   "source": [
    "#old hourly cluster weight method\n",
    "def cal_hourly_cluster_weight():\n",
    "    global staypts_df\n",
    "    global cluster_hourly_df\n",
    "    global hourly_start_df\n",
    "    global hourly_end_df\n",
    "\n",
    "    #create two new dataframes with start and end of each hour for each cluster\n",
    "    hourly_start_df = staypts_df.resample('H').first()\n",
    "    hourly_end_df = staypts_df.resample('H').last()\n",
    "    hourly_start_df = hourly_start_df.dropna()\n",
    "    hourly_end_df = hourly_end_df.dropna()\n",
    "\n",
    "    for i in range(0, 24):\n",
    "        cluster_hourly_df['Date'] = 0\n",
    "        cluster_hourly_df['ClusterId'] = 0\n",
    "        cluster_hourly_df['AvgLat'] = 0\n",
    "        cluster_hourly_df['AvgLon'] = 0\n",
    "        cluster_hourly_df[i] = 0\n",
    "\n",
    "    for i in range(0, len(hourly_start_df)):\n",
    "    #for i in range(0, staypts_df['ClusterId'].nunique()):\n",
    "        if hourly_end_df['Timestamp'][i] == hourly_start_df['Timestamp'][i]:\n",
    "            k = (hourly_start_df.index[i] + pd.Timedelta(hours=1)) - hourly_start_df['Timestamp'][i]\n",
    "        else:\n",
    "            k = hourly_end_df['Timestamp'][i] - hourly_start_df['Timestamp'][i]\n",
    "\n",
    "        l = (k / np.timedelta64(1, 'm')).astype(int)\n",
    "        date_read = hourly_start_df.index[i].date()\n",
    "        cluster_id = hourly_start_df['ClusterId'][i]\n",
    "        ClusterMeanLat = hourly_start_df['ClusterMeanLat'][i]\n",
    "\n",
    "        ClusterMeanLon = hourly_start_df['ClusterMeanLon'][i]\n",
    "\n",
    "        col_name = hourly_start_df.index[i].hour \n",
    "        #import pdb; pdb.set_trace()\n",
    "        cluster_hourly_df.loc[i, 'AvgLat'] = ClusterMeanLat\n",
    "        cluster_hourly_df.loc[i, 'AvgLon'] = ClusterMeanLon\n",
    "        cluster_hourly_df.loc[i, 'Date'] = date_read\n",
    "        cluster_hourly_df.loc[i, 'ClusterId'] = cluster_id\n",
    "        cluster_hourly_df.loc[i, col_name] = round((l)/60,4)\n",
    "\n",
    "    cluster_hourly_df = cluster_hourly_df.fillna(0)\n",
    "    cluster_hourly_df = cluster_hourly_df.groupby(['Date', 'ClusterId', 'AvgLat', 'AvgLon']).sum()\n",
    "    cluster_hourly_df = cluster_hourly_df.reset_index(level=[0,1,2,3])"
   ]
  }
 ],
 "metadata": {
  "kernelspec": {
   "display_name": "Python 3",
   "language": "python",
   "name": "python3"
  },
  "language_info": {
   "codemirror_mode": {
    "name": "ipython",
    "version": 3
   },
   "file_extension": ".py",
   "mimetype": "text/x-python",
   "name": "python",
   "nbconvert_exporter": "python",
   "pygments_lexer": "ipython3",
   "version": "3.6.4"
  }
 },
 "nbformat": 4,
 "nbformat_minor": 2
}
