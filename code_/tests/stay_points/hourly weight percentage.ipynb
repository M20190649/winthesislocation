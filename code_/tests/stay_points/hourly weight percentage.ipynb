{
 "cells": [
  {
   "cell_type": "code",
   "execution_count": null,
   "metadata": {},
   "outputs": [],
   "source": [
    "#load the staypoints file\n",
    "staypts_df = pd.read_csv(dest_file_staypoints, sep='\\t')\n",
    "\n",
    "#make index as datetime\n",
    "staypts_df.index = pd.to_datetime(staypts_df.Timestamp)\n",
    "\n",
    "#add a column hour for pivot table\n",
    "staypts_df['Hour'] = staypts_df.index.hour\n",
    "\n",
    "#sort based on hours\n",
    "staypts_df = staypts_df.sort_values(['Hour'])\n",
    "\n",
    "#count a cluster existence in each hour of te day\n",
    "pivot_df_hour_count = staypts_df.pivot_table(values='Latitude', index='ClusterId',columns='Hour',aggfunc=len,  fill_value=0)\n",
    "\n",
    "#copy hour count pivot to a new pivot where percentage weight of each staypount in the hour is calculated\n",
    "pivot_df_hour_count.columns.name = None\n",
    "pivot_df_per_weight = pivot_df_hour_count.copy()\n",
    "\n",
    "for column in pivot_df_per_weight:\n",
    "    pivot_df_per_weight[column] = round(pivot_df_per_weight[column] / pivot_df_per_weight[column].sum() * 100, 2)\n",
    "    \n",
    "pivot_df_per_weight\n",
    "\n",
    "#visualize the staypoint percentage weight per hour\n",
    "fig, ax = plt.subplots(figsize=(20,30)) \n",
    "sns.heatmap(pivot_df_per_weight, cmap='BuGn', ax=ax)"
   ]
  }
 ],
 "metadata": {
  "kernelspec": {
   "display_name": "Python 3",
   "language": "python",
   "name": "python3"
  },
  "language_info": {
   "codemirror_mode": {
    "name": "ipython",
    "version": 3
   },
   "file_extension": ".py",
   "mimetype": "text/x-python",
   "name": "python",
   "nbconvert_exporter": "python",
   "pygments_lexer": "ipython3",
   "version": "3.6.4"
  }
 },
 "nbformat": 4,
 "nbformat_minor": 2
}
