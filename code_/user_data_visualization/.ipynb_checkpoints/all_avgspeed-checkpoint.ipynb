{
 "cells": [
  {
   "cell_type": "code",
   "execution_count": 1,
   "metadata": {},
   "outputs": [
    {
     "data": {
      "application/javascript": [
       "IPython.OutputArea.prototype._should_scroll = function(lines) {\n",
       "    return false;\n",
       "}"
      ],
      "text/plain": [
       "<IPython.core.display.Javascript object>"
      ]
     },
     "metadata": {},
     "output_type": "display_data"
    }
   ],
   "source": [
    "%%javascript\n",
    "IPython.OutputArea.prototype._should_scroll = function(lines) {\n",
    "    return false;\n",
    "}"
   ]
  },
  {
   "cell_type": "code",
   "execution_count": 2,
   "metadata": {},
   "outputs": [
    {
     "ename": "AttributeError",
     "evalue": "module 'matplotlib.pyplot' has no attribute 'ylable'",
     "output_type": "error",
     "traceback": [
      "\u001b[1;31m---------------------------------------------------------------------------\u001b[0m",
      "\u001b[1;31mAttributeError\u001b[0m                            Traceback (most recent call last)",
      "\u001b[1;32m<ipython-input-2-c985d887007e>\u001b[0m in \u001b[0;36m<module>\u001b[1;34m()\u001b[0m\n\u001b[0;32m    133\u001b[0m \u001b[0mdestination\u001b[0m \u001b[1;33m=\u001b[0m \u001b[1;34m'C:/Users/12sha/Documents/thesislocation/Data/avgspeed/'\u001b[0m\u001b[1;33m\u001b[0m\u001b[0m\n\u001b[0;32m    134\u001b[0m \u001b[1;33m\u001b[0m\u001b[0m\n\u001b[1;32m--> 135\u001b[1;33m \u001b[0mmain\u001b[0m\u001b[1;33m(\u001b[0m\u001b[1;33m)\u001b[0m\u001b[1;33m\u001b[0m\u001b[0m\n\u001b[0m",
      "\u001b[1;32m<ipython-input-2-c985d887007e>\u001b[0m in \u001b[0;36mmain\u001b[1;34m()\u001b[0m\n\u001b[0;32m    122\u001b[0m     \u001b[0mavgspeed_df\u001b[0m\u001b[1;33m.\u001b[0m\u001b[0mto_csv\u001b[0m\u001b[1;33m(\u001b[0m\u001b[0mdest_file\u001b[0m\u001b[1;33m,\u001b[0m \u001b[0msep\u001b[0m\u001b[1;33m=\u001b[0m\u001b[1;34m'\\t'\u001b[0m\u001b[1;33m,\u001b[0m \u001b[0mencoding\u001b[0m\u001b[1;33m=\u001b[0m\u001b[1;34m'utf-8'\u001b[0m\u001b[1;33m)\u001b[0m\u001b[1;33m\u001b[0m\u001b[0m\n\u001b[0;32m    123\u001b[0m \u001b[1;33m\u001b[0m\u001b[0m\n\u001b[1;32m--> 124\u001b[1;33m     \u001b[0mdraw_boxplt\u001b[0m\u001b[1;33m(\u001b[0m\u001b[1;33m)\u001b[0m\u001b[1;33m\u001b[0m\u001b[0m\n\u001b[0m\u001b[0;32m    125\u001b[0m \u001b[1;33m\u001b[0m\u001b[0m\n\u001b[0;32m    126\u001b[0m \u001b[1;33m\u001b[0m\u001b[0m\n",
      "\u001b[1;32m<ipython-input-2-c985d887007e>\u001b[0m in \u001b[0;36mdraw_boxplt\u001b[1;34m()\u001b[0m\n\u001b[0;32m     85\u001b[0m     ax = sns.boxplot(y=avgspeed_df[\"AvgSpeed(Km/Hr)\"], data=avg_vals,\n\u001b[0;32m     86\u001b[0m                      palette=\"Set3\", linewidth=2, medianprops={'color': 'k', 'linewidth': 3})\n\u001b[1;32m---> 87\u001b[1;33m     \u001b[0mplt\u001b[0m\u001b[1;33m.\u001b[0m\u001b[0mylable\u001b[0m\u001b[1;33m(\u001b[0m\u001b[1;34m\"Average Speed Km/Hr\"\u001b[0m\u001b[1;33m)\u001b[0m\u001b[1;33m\u001b[0m\u001b[0m\n\u001b[0m\u001b[0;32m     88\u001b[0m \u001b[1;33m\u001b[0m\u001b[0m\n\u001b[0;32m     89\u001b[0m \u001b[1;33m\u001b[0m\u001b[0m\n",
      "\u001b[1;31mAttributeError\u001b[0m: module 'matplotlib.pyplot' has no attribute 'ylable'"
     ]
    },
    {
     "data": {
      "image/png": "[encoded data removed]",
      "text/plain": [
       "<Figure size 1080x720 with 1 Axes>"
      ]
     },
     "metadata": {},
     "output_type": "display_data"
    }
   ],
   "source": [
    "from datetime import datetime\n",
    "from datetime import timedelta\n",
    "import matplotlib.pyplot as plt\n",
    "import pandas as pd\n",
    "import seaborn as sns\n",
    "import math\n",
    "import os\n",
    "\n",
    "\n",
    "# Find distance between two lan:lon points in meters\n",
    "def meters(lat1, lon1, lat2, lon2):\n",
    "    R = 6378.137  # Radius of earth in KM\n",
    "    dLat = lat2 * math.pi / 180 - lat1 * math.pi / 180\n",
    "    dLon = lon2 * math.pi / 180 - lon1 * math.pi / 180\n",
    "    a = math.sin(dLat / 2) * math.sin(dLat / 2) + math.cos(lat1 * math.pi / 180) * math.cos(\n",
    "        lat2 * math.pi / 180) * math.sin(dLon / 2) * math.sin(dLon / 2)\n",
    "    c = 2 * math.atan2(math.sqrt(a), math.sqrt(1 - a))\n",
    "    d = R * c\n",
    "    return d * 1000  # meters\n",
    "\n",
    "\n",
    "# find the first and last points from each plt files\n",
    "def populate_firstlst_pts_df(file_src, user):\n",
    "    global firstlst_pts_df\n",
    "\n",
    "    #firstlst_pts_df = firstlst_pts_df.iloc[0:0]\n",
    "\n",
    "    for dirname, dirnames, filenames in os.walk(file_src):\n",
    "        i = len(firstlst_pts_df)\n",
    "        for filename in filenames:\n",
    "            if filename.endswith('plt'):\n",
    "                gpsfile = os.path.join(dirname, filename)\n",
    "                log = open(gpsfile, 'r')\n",
    "                points = log.readlines()[6:]  # first 6 lines are useless\n",
    "\n",
    "                first_point = points[0].rstrip().split(',')\n",
    "                last_point = points[len(points) - 1].rstrip().split(',')\n",
    "                start_time = first_point[5] + \" \" + first_point[6]\n",
    "                end_time = last_point[5] + \" \" + last_point[6]\n",
    "                trj_time = (datetime.strptime(end_time, time_format) - datetime.strptime(start_time,\n",
    "                                                                                        time_format)) / timedelta(minutes=1)\n",
    "                firstlst_pts_df.loc[i, 'User'] = user\n",
    "                firstlst_pts_df.loc[i, 'File'] = filename\n",
    "                firstlst_pts_df.loc[i, 'TrajId'] = i\n",
    "                firstlst_pts_df.loc[i, 'Dist(km)'] = meters(float(first_point[0]), float(first_point[1]),\n",
    "                                                            float(last_point[0]), float(last_point[1])) / 1000\n",
    "                firstlst_pts_df.loc[i, 'Time(hr)'] = trj_time / 60\n",
    "                firstlst_pts_df.loc[i, 'Spd(km/hr)'] = ((firstlst_pts_df.loc[i, 'Dist(km)']) /\n",
    "                                                        (firstlst_pts_df.loc[i, 'Time(hr)']))\n",
    "                i += 1\n",
    "\n",
    "\n",
    "# calculate the mean of speed, distance, time for each user\n",
    "def calMean(user):\n",
    "    mean_speed = firstlst_pts_df.loc[(firstlst_pts_df['User'] == user), 'Spd(km/hr)'].mean()\n",
    "    mean_dis = firstlst_pts_df.loc[(firstlst_pts_df['User'] == user), 'Dist(km)'].mean()\n",
    "    mean_time = firstlst_pts_df.loc[(firstlst_pts_df['User'] == user), 'Time(hr)'].mean()\n",
    "    return mean_speed, mean_dis, mean_time\n",
    "\n",
    "\n",
    "# draw the box plot\n",
    "def draw_boxplt():\n",
    "    avgspeed_df['User'] = (avgspeed_df['User']).astype(int)\n",
    "    avg_vals = avgspeed_df.groupby('AvgSpeed(Km/Hr)').std()\n",
    "\n",
    "    sns.set_context(\"talk\")\n",
    "\n",
    "    plt.rcParams['figure.figsize'] = 15, 10\n",
    "    plt.rcParams['font.weight'] = 'normal'\n",
    "    plt.rcParams['font.size'] = 10\n",
    "    sns.set_style(\"darkgrid\")\n",
    "    params = {'axes.labelsize': 'large',\n",
    "              'axes.titlesize': 'large',\n",
    "              'xtick.labelsize': 'large',\n",
    "              'ytick.labelsize': 'large',\n",
    "              'ytick.major.pad': '0',\n",
    "              'xtick.major.pad': '10',\n",
    "              'ytick.minor.pad': '0',\n",
    "              'axes.labelpad': '0'}\n",
    "    plt.rcParams.update(params)\n",
    "    plt.rc('pdf', fonttype=42)\n",
    "    plt.figure()\n",
    "\n",
    "    ax = plt.subplot(121)\n",
    "    ax = sns.boxplot(y=avgspeed_df[\"AvgSpeed(Km/Hr)\"], data=avg_vals,\n",
    "                     palette=\"Set3\", linewidth=2, medianprops={'color': 'k', 'linewidth': 3})\n",
    "    plt.ylabel(\"Average Speed Km/Hr\", fontsize=20)\n",
    "\n",
    "\n",
    "def prepare_df():\n",
    "    global firstlst_pts_df\n",
    "    global avgspeed_df\n",
    "\n",
    "    firstlst_pts_df['TrajId'] = 0\n",
    "    firstlst_pts_df['User'] = 0\n",
    "    firstlst_pts_df['File'] = 0\n",
    "    firstlst_pts_df['Dist(km)'] = 0.0\n",
    "    firstlst_pts_df['Time(hr)'] = 0.0\n",
    "    firstlst_pts_df['Spd(km/hr)'] = 0.0\n",
    "\n",
    "    avgspeed_df['User'] = 0\n",
    "    avgspeed_df['AvgSpeed(Km/Hr)'] = 0.0\n",
    "    avgspeed_df.loc['AvgDistance(Km)'] = 0.0\n",
    "\n",
    "\n",
    "# ------------------------------------------------------------\n",
    "def main():\n",
    "    prepare_df()\n",
    "\n",
    "    for i in range(0, 182):\n",
    "        user = \"%03d\" % i\n",
    "        file_src = file_path + str(user) + '/Trajectory/'\n",
    "\n",
    "        populate_firstlst_pts_df(file_src, user)\n",
    "        avg_speed, avg_dis, avg_time = calMean(user)\n",
    "\n",
    "        avgspeed_df.loc[i, 'User'] = str(user)\n",
    "        avgspeed_df.loc[i, 'AvgSpeed(Km/Hr)'] = avg_speed\n",
    "        avgspeed_df.loc[i, 'AvgDistance(Km)'] = avg_dis\n",
    "\n",
    "    dest_file = destination + \" avgspeed_df.csv\"\n",
    "    avgspeed_df.to_csv(dest_file, sep='\\t', encoding='utf-8')\n",
    "\n",
    "    draw_boxplt()\n",
    "    \n",
    "\n",
    "# ---------------------------------------------------------------\n",
    "time_format = '%Y-%m-%d %H:%M:%S'\n",
    "firstlst_pts_df = pd.DataFrame()\n",
    "avgspeed_df = pd.DataFrame()\n",
    "\n",
    "file_path = 'C:/Users/12sha/Documents/Geolife Trajectories 1.3/Data/'\n",
    "destination = 'C:/Users/12sha/Documents/thesislocation/Data/avgspeed/'\n",
    "\n",
    "main()"
   ]
  },
  {
   "cell_type": "code",
   "execution_count": null,
   "metadata": {},
   "outputs": [],
   "source": []
  }
 ],
 "metadata": {
  "kernelspec": {
   "display_name": "Python 3",
   "language": "python",
   "name": "python3"
  },
  "language_info": {
   "codemirror_mode": {
    "name": "ipython",
    "version": 3
   },
   "file_extension": ".py",
   "mimetype": "text/x-python",
   "name": "python",
   "nbconvert_exporter": "python",
   "pygments_lexer": "ipython3",
   "version": "3.6.5"
  }
 },
 "nbformat": 4,
 "nbformat_minor": 2
}
