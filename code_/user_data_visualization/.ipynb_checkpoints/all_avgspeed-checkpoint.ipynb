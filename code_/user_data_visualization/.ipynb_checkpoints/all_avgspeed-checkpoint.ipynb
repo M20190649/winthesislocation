{
 "cells": [
  {
   "cell_type": "code",
   "execution_count": 40,
   "metadata": {},
   "outputs": [
    {
     "data": {
      "application/javascript": [
       "IPython.OutputArea.prototype._should_scroll = function(lines) {\n",
       "    return false;\n",
       "}"
      ],
      "text/plain": [
       "<IPython.core.display.Javascript object>"
      ]
     },
     "metadata": {},
     "output_type": "display_data"
    }
   ],
   "source": [
    "%%javascript\n",
    "IPython.OutputArea.prototype._should_scroll = function(lines) {\n",
    "    return false;\n",
    "}"
   ]
  },
  {
   "cell_type": "code",
   "execution_count": 10,
   "metadata": {
    "scrolled": true
   },
   "outputs": [],
   "source": [
    "from datetime import datetime\n",
    "import numpy as np\n",
    "import matplotlib.pyplot as plt\n",
    "from matplotlib.pyplot import figure\n",
    "import pandas as pd\n",
    "import seaborn as sns\n",
    "import math \n",
    "import time\n",
    "import os\n",
    "import sys\n",
    "from ctypes import *\n",
    "from math import radians, cos, sin, asin, sqrt\n",
    "%matplotlib inline\n",
    "# %matplotlib nbagg\n",
    "# import mpld3\n",
    "# mpld3.enable_notebook()\n",
    "\n",
    "#Find distance between two lan:lon points in meters\n",
    "def meters(lat1, lon1, lat2, lon2):  \n",
    "    R = 6378.137 # Radius of earth in KM\n",
    "    dLat = lat2 * math.pi / 180 - lat1 * math.pi / 180\n",
    "    dLon = lon2 * math.pi / 180 - lon1 * math.pi / 180\n",
    "    a = math.sin(dLat/2) * math.sin(dLat/2) + math.cos(lat1 * math.pi / 180) * math.cos(lat2 * math.pi / 180) * math.sin(dLon/2) * math.sin(dLon/2);\n",
    "    c = 2 * math.atan2(math.sqrt(a), math.sqrt(1-a));\n",
    "    d = R * c\n",
    "    return d * 1000 # meters\n",
    "\n",
    "def populate_firstlst_pts_df(file_src):\n",
    "    global firstlst_pts_df\n",
    "    \n",
    "    firstlst_pts_df = firstlst_pts_df.iloc[0:0]\n",
    "    firstlst_pts_df = pd.DataFrame()\n",
    "    firstlst_pts_df['TrajId'] = 0\n",
    "    firstlst_pts_df['File'] = 0\n",
    "    firstlst_pts_df['Dist(km)'] = 0.0\n",
    "    firstlst_pts_df['Time(hr)'] = 0.0\n",
    "    firstlst_pts_df['Spd(km/hr)'] = 0.0\n",
    "    \n",
    "    for dirname, dirnames, filenames in os.walk(file_src):\n",
    "        i = 0\n",
    "        #import pdb; pdb.set_trace()\n",
    "        for filename in filenames:\n",
    "            if  filename.endswith('plt'):\n",
    "                \n",
    "                gpsfile = os.path.join(dirname, filename)\n",
    "                log = open(gpsfile, 'r')\n",
    "                points = log.readlines()[6:] # first 6 lines are useless\n",
    "                pointNum = len(points)\n",
    "                \n",
    "                first_point = points[0].rstrip().split(',')\n",
    "                last_point = points[len(points)-1].rstrip().split(',')\n",
    "                start_time = first_point[6]\n",
    "                end_time = last_point[6]\n",
    "                trj_time = (datetime.strptime(end_time, time_format) - datetime.strptime(start_time, time_format)).seconds/3600\n",
    "\n",
    "                #import pdb; pdb.set_trace()\n",
    "                firstlst_pts_df.loc[i, 'File'] = filename\n",
    "                firstlst_pts_df.loc[i, 'TrajId'] = i\n",
    "                firstlst_pts_df.loc[i, 'Dist(km)'] =  meters(float(first_point[0]), float(first_point[1]), \n",
    "                                                         float(last_point[0]), float(last_point[1])) / 1000\n",
    "                firstlst_pts_df.loc[i, 'Time(hr)'] = trj_time\n",
    "                firstlst_pts_df.loc[i, 'Spd(km/hr)'] = ((firstlst_pts_df.loc[i, 'Dist(km)']) / \n",
    "                                                        (firstlst_pts_df.loc[i, 'Time(hr)']))\n",
    "                i+=1\n",
    "    \n",
    "    \n",
    "    \n",
    "\n",
    "def avgspeed():\n",
    "    \n",
    "    mean = firstlst_pts_df['Spd(km/hr)'].mean()\n",
    "    return mean\n",
    "\n",
    "#------------------------------------------------------------\n",
    "def main():\n",
    "    for i in range(0, 182):\n",
    "        user = \"%03d\"%i\n",
    "        file_src = file_path + str(user) + '/Trajectory/'\n",
    " \n",
    "        populate_firstlst_pts_df(file_src)\n",
    "        avg_speed = avgspeed()\n",
    "\n",
    "        avgspeed_df.loc[i, 'User'] = str(user)\n",
    "        avgspeed_df.loc[i, 'AvgSpeed(Km/Hr)'] = avg_speed \n",
    "        \n",
    "    dest_file = destination + \" avgspeed_df.csv\"\n",
    "    avgspeed_df.to_csv(dest_file, sep='\\t', encoding='utf-8')\n",
    "#---------------------------------------------------------------\n",
    "time_format = '%H:%M:%S'\n",
    "firstlst_pts_df = pd.DataFrame()\n",
    "avgspeed_df = pd.DataFrame()\n",
    "\n",
    "avgspeed_df['User'] = 0\n",
    "avgspeed_df['AvgSpeed(Km/Hr)'] = 0.0\n",
    "\n",
    "file_path = 'C:/Users/12sha/Documents/Geolife Trajectories 1.3/Data/'\n",
    "destination = 'C:/Users/12sha/Documents/thesislocation/Data/avgspeed/'\n",
    "\n",
    "main()"
   ]
  },
  {
   "cell_type": "code",
   "execution_count": 21,
   "metadata": {},
   "outputs": [
    {
     "data": {
      "image/png": "[encoded data removed]",
      "text/plain": [
       "<matplotlib.figure.Figure at 0x7ff1ef1c1c18>"
      ]
     },
     "metadata": {},
     "output_type": "display_data"
    }
   ],
   "source": [
    "avgspeed_df['User'] = (avgspeed_df['User']).astype(int)\n",
    "avg_vals = avgspeed_df.groupby('AvgSpeed(Km/Hr)').std()\n",
    "\n",
    "## sns.set()\n",
    "sns.set_context(\"talk\")\n",
    "\n",
    "\n",
    "plt.rcParams['figure.figsize']=15,10\n",
    "plt.rcParams['font.weight'] = 'normal'\n",
    "plt.rcParams['font.size'] = 6\n",
    "sns.set_style(\"darkgrid\")\n",
    "params = {'axes.labelsize': 'large',\n",
    "         'axes.titlesize':'large',\n",
    "         'xtick.labelsize':'large',\n",
    "         'ytick.labelsize':'large',\n",
    "         'ytick.major.pad':'0',\n",
    "         'xtick.major.pad':'10', # for moving 'Pre-Comp' and 'Online' away from the axes\n",
    "         'ytick.minor.pad':'0',\n",
    "#          'xtick.minor.pad':'5',\n",
    "         'axes.labelpad':'0'}\n",
    "plt.rcParams.update(params)\n",
    "plt.rc('pdf', fonttype=42) #embedded fonts\n",
    "plt.figure();\n",
    "\n",
    "ax = plt.subplot(121)\n",
    "ax = sns.boxplot(y=avgspeed_df[\"AvgSpeed(Km/Hr)\"], data=avg_vals,\n",
    "                 palette=\"Set3\", linewidth=2, medianprops={'color': 'k', 'linewidth': 3});"
   ]
  },
  {
   "cell_type": "code",
   "execution_count": null,
   "metadata": {},
   "outputs": [],
   "source": []
  }
 ],
 "metadata": {
  "kernelspec": {
   "display_name": "Python 3",
   "language": "python",
   "name": "python3"
  },
  "language_info": {
   "codemirror_mode": {
    "name": "ipython",
    "version": 3
   },
   "file_extension": ".py",
   "mimetype": "text/x-python",
   "name": "python",
   "nbconvert_exporter": "python",
   "pygments_lexer": "ipython3",
   "version": "3.6.5"
  }
 },
 "nbformat": 4,
 "nbformat_minor": 2
}
