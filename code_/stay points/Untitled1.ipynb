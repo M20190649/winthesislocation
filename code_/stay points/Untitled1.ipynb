{
 "cells": [
  {
   "cell_type": "code",
   "execution_count": 6,
   "metadata": {},
   "outputs": [
    {
     "name": "stdout",
     "output_type": "stream",
     "text": [
      "[7, 6, 3, 8, 9]\n"
     ]
    }
   ],
   "source": [
    "def rev(A, n, k):\n",
    "    k = k%n\n",
    "    rect = [0] * n\n",
    "    for i in range(0, len(A)):\n",
    "        a = (i + k)%n\n",
    "        rect[a] = A[i]\n",
    "    return rect\n",
    "\n",
    "A = [3, 8, 9, 7, 6]\n",
    "\n",
    "print(rev(A, 5, 2))"
   ]
  },
  {
   "cell_type": "code",
   "execution_count": 7,
   "metadata": {},
   "outputs": [
    {
     "data": {
      "text/plain": [
       "2"
      ]
     },
     "execution_count": 7,
     "metadata": {},
     "output_type": "execute_result"
    }
   ],
   "source": [
    "2%5"
   ]
  },
  {
   "cell_type": "code",
   "execution_count": 18,
   "metadata": {},
   "outputs": [
    {
     "name": "stdout",
     "output_type": "stream",
     "text": [
      "1\n"
     ]
    }
   ],
   "source": [
    "def solution(A, N):\n",
    "    ret = 0\n",
    "    \n",
    "    for i in range(0,len(A)):\n",
    "        ret = ret ^ A[i]\n",
    "    return ret\n",
    "\n",
    "A = [9, 3, 9, 3, 9, 1, 9]\n",
    "\n",
    "print(solution(A, 5))"
   ]
  },
  {
   "cell_type": "code",
   "execution_count": null,
   "metadata": {},
   "outputs": [],
   "source": []
  }
 ],
 "metadata": {
  "kernelspec": {
   "display_name": "Python 3",
   "language": "python",
   "name": "python3"
  },
  "language_info": {
   "codemirror_mode": {
    "name": "ipython",
    "version": 3
   },
   "file_extension": ".py",
   "mimetype": "text/x-python",
   "name": "python",
   "nbconvert_exporter": "python",
   "pygments_lexer": "ipython3",
   "version": "3.6.5"
  }
 },
 "nbformat": 4,
 "nbformat_minor": 2
}
