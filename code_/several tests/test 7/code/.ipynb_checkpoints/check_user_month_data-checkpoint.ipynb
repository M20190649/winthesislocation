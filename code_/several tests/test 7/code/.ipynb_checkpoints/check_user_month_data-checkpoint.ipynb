{
 "cells": [
  {
   "cell_type": "code",
   "execution_count": 2,
   "metadata": {},
   "outputs": [
    {
     "data": {
      "application/javascript": [
       "IPython.OutputArea.prototype._should_scroll = function(lines) {\n",
       "    return false;\n",
       "}"
      ],
      "text/plain": [
       "<IPython.core.display.Javascript object>"
      ]
     },
     "metadata": {},
     "output_type": "display_data"
    }
   ],
   "source": [
    "%%javascript\n",
    "IPython.OutputArea.prototype._should_scroll = function(lines) {\n",
    "    return false;\n",
    "}"
   ]
  },
  {
   "cell_type": "code",
   "execution_count": 3,
   "metadata": {},
   "outputs": [],
   "source": [
    "import glob\n",
    "import pandas as pd\n",
    "from datetime import datetime\n",
    "import warnings\n",
    "from dateutil.relativedelta import relativedelta\n",
    "\n",
    "warnings.filterwarnings('ignore')\n",
    "\n",
    "pd.options.mode.chained_assignment = None"
   ]
  },
  {
   "cell_type": "code",
   "execution_count": 4,
   "metadata": {},
   "outputs": [
    {
     "name": "stdout",
     "output_type": "stream",
     "text": [
      "> <ipython-input-4-0eb2a43df8ce>(39)<module>()\n",
      "-> mnth_yr = test['MonthYear'].loc[test['count'] == max(test['count'])]\n",
      "(Pdb) test\n",
      "           count  MonthYear\n",
      "Timestamp                  \n",
      "200810      3627     200810\n",
      "200811      7745     200811\n",
      "200812      1570     200812\n",
      "200903      2778     200903\n",
      "200904     59436     200904\n",
      "200905     39057     200905\n",
      "200906     49084     200906\n",
      "200907     10573     200907\n",
      "(Pdb) c\n",
      "> <ipython-input-4-0eb2a43df8ce>(38)<module>()\n",
      "-> import pdb; pdb.set_trace()\n",
      "(Pdb) test\n",
      "           count  MonthYear\n",
      "Timestamp                  \n",
      "200810     23937     200810\n",
      "200811     49680     200811\n",
      "200812     34990     200812\n",
      "(Pdb) user\n",
      "'001'\n",
      "(Pdb) q\n"
     ]
    },
    {
     "ename": "BdbQuit",
     "evalue": "",
     "output_type": "error",
     "traceback": [
      "\u001b[1;31m---------------------------------------------------------------------------\u001b[0m",
      "\u001b[1;31mBdbQuit\u001b[0m                                   Traceback (most recent call last)",
      "\u001b[1;32m<ipython-input-4-0eb2a43df8ce>\u001b[0m in \u001b[0;36m<module>\u001b[1;34m()\u001b[0m\n\u001b[0;32m     36\u001b[0m     \u001b[0mtest\u001b[0m\u001b[1;33m[\u001b[0m\u001b[1;34m'count'\u001b[0m\u001b[1;33m]\u001b[0m \u001b[1;33m=\u001b[0m \u001b[0mcombined_df\u001b[0m\u001b[1;33m.\u001b[0m\u001b[0mgroupby\u001b[0m\u001b[1;33m(\u001b[0m\u001b[0mcombined_df\u001b[0m\u001b[1;33m.\u001b[0m\u001b[0mindex\u001b[0m\u001b[1;33m.\u001b[0m\u001b[0myear\u001b[0m \u001b[1;33m*\u001b[0m \u001b[1;36m100\u001b[0m \u001b[1;33m+\u001b[0m \u001b[0mcombined_df\u001b[0m\u001b[1;33m.\u001b[0m\u001b[0mindex\u001b[0m\u001b[1;33m.\u001b[0m\u001b[0mmonth\u001b[0m\u001b[1;33m)\u001b[0m\u001b[1;33m.\u001b[0m\u001b[0msize\u001b[0m\u001b[1;33m(\u001b[0m\u001b[1;33m)\u001b[0m\u001b[1;33m\u001b[0m\u001b[0m\n\u001b[0;32m     37\u001b[0m     \u001b[0mtest\u001b[0m\u001b[1;33m[\u001b[0m\u001b[1;34m'MonthYear'\u001b[0m\u001b[1;33m]\u001b[0m \u001b[1;33m=\u001b[0m \u001b[0mtest\u001b[0m\u001b[1;33m.\u001b[0m\u001b[0mindex\u001b[0m\u001b[1;33m\u001b[0m\u001b[0m\n\u001b[1;32m---> 38\u001b[1;33m     \u001b[1;32mimport\u001b[0m \u001b[0mpdb\u001b[0m\u001b[1;33m;\u001b[0m \u001b[0mpdb\u001b[0m\u001b[1;33m.\u001b[0m\u001b[0mset_trace\u001b[0m\u001b[1;33m(\u001b[0m\u001b[1;33m)\u001b[0m\u001b[1;33m\u001b[0m\u001b[0m\n\u001b[0m\u001b[0;32m     39\u001b[0m     \u001b[0mmnth_yr\u001b[0m \u001b[1;33m=\u001b[0m \u001b[0mtest\u001b[0m\u001b[1;33m[\u001b[0m\u001b[1;34m'MonthYear'\u001b[0m\u001b[1;33m]\u001b[0m\u001b[1;33m.\u001b[0m\u001b[0mloc\u001b[0m\u001b[1;33m[\u001b[0m\u001b[0mtest\u001b[0m\u001b[1;33m[\u001b[0m\u001b[1;34m'count'\u001b[0m\u001b[1;33m]\u001b[0m \u001b[1;33m==\u001b[0m \u001b[0mmax\u001b[0m\u001b[1;33m(\u001b[0m\u001b[0mtest\u001b[0m\u001b[1;33m[\u001b[0m\u001b[1;34m'count'\u001b[0m\u001b[1;33m]\u001b[0m\u001b[1;33m)\u001b[0m\u001b[1;33m]\u001b[0m\u001b[1;33m\u001b[0m\u001b[0m\n\u001b[0;32m     40\u001b[0m     \u001b[0mmnth_yr\u001b[0m \u001b[1;33m=\u001b[0m \u001b[0mmnth_yr\u001b[0m\u001b[1;33m.\u001b[0m\u001b[0miloc\u001b[0m\u001b[1;33m[\u001b[0m\u001b[1;36m0\u001b[0m\u001b[1;33m]\u001b[0m\u001b[1;33m\u001b[0m\u001b[0m\n",
      "\u001b[1;32m<ipython-input-4-0eb2a43df8ce>\u001b[0m in \u001b[0;36m<module>\u001b[1;34m()\u001b[0m\n\u001b[0;32m     36\u001b[0m     \u001b[0mtest\u001b[0m\u001b[1;33m[\u001b[0m\u001b[1;34m'count'\u001b[0m\u001b[1;33m]\u001b[0m \u001b[1;33m=\u001b[0m \u001b[0mcombined_df\u001b[0m\u001b[1;33m.\u001b[0m\u001b[0mgroupby\u001b[0m\u001b[1;33m(\u001b[0m\u001b[0mcombined_df\u001b[0m\u001b[1;33m.\u001b[0m\u001b[0mindex\u001b[0m\u001b[1;33m.\u001b[0m\u001b[0myear\u001b[0m \u001b[1;33m*\u001b[0m \u001b[1;36m100\u001b[0m \u001b[1;33m+\u001b[0m \u001b[0mcombined_df\u001b[0m\u001b[1;33m.\u001b[0m\u001b[0mindex\u001b[0m\u001b[1;33m.\u001b[0m\u001b[0mmonth\u001b[0m\u001b[1;33m)\u001b[0m\u001b[1;33m.\u001b[0m\u001b[0msize\u001b[0m\u001b[1;33m(\u001b[0m\u001b[1;33m)\u001b[0m\u001b[1;33m\u001b[0m\u001b[0m\n\u001b[0;32m     37\u001b[0m     \u001b[0mtest\u001b[0m\u001b[1;33m[\u001b[0m\u001b[1;34m'MonthYear'\u001b[0m\u001b[1;33m]\u001b[0m \u001b[1;33m=\u001b[0m \u001b[0mtest\u001b[0m\u001b[1;33m.\u001b[0m\u001b[0mindex\u001b[0m\u001b[1;33m\u001b[0m\u001b[0m\n\u001b[1;32m---> 38\u001b[1;33m     \u001b[1;32mimport\u001b[0m \u001b[0mpdb\u001b[0m\u001b[1;33m;\u001b[0m \u001b[0mpdb\u001b[0m\u001b[1;33m.\u001b[0m\u001b[0mset_trace\u001b[0m\u001b[1;33m(\u001b[0m\u001b[1;33m)\u001b[0m\u001b[1;33m\u001b[0m\u001b[0m\n\u001b[0m\u001b[0;32m     39\u001b[0m     \u001b[0mmnth_yr\u001b[0m \u001b[1;33m=\u001b[0m \u001b[0mtest\u001b[0m\u001b[1;33m[\u001b[0m\u001b[1;34m'MonthYear'\u001b[0m\u001b[1;33m]\u001b[0m\u001b[1;33m.\u001b[0m\u001b[0mloc\u001b[0m\u001b[1;33m[\u001b[0m\u001b[0mtest\u001b[0m\u001b[1;33m[\u001b[0m\u001b[1;34m'count'\u001b[0m\u001b[1;33m]\u001b[0m \u001b[1;33m==\u001b[0m \u001b[0mmax\u001b[0m\u001b[1;33m(\u001b[0m\u001b[0mtest\u001b[0m\u001b[1;33m[\u001b[0m\u001b[1;34m'count'\u001b[0m\u001b[1;33m]\u001b[0m\u001b[1;33m)\u001b[0m\u001b[1;33m]\u001b[0m\u001b[1;33m\u001b[0m\u001b[0m\n\u001b[0;32m     40\u001b[0m     \u001b[0mmnth_yr\u001b[0m \u001b[1;33m=\u001b[0m \u001b[0mmnth_yr\u001b[0m\u001b[1;33m.\u001b[0m\u001b[0miloc\u001b[0m\u001b[1;33m[\u001b[0m\u001b[1;36m0\u001b[0m\u001b[1;33m]\u001b[0m\u001b[1;33m\u001b[0m\u001b[0m\n",
      "\u001b[1;32m~\\Anaconda3\\lib\\bdb.py\u001b[0m in \u001b[0;36mtrace_dispatch\u001b[1;34m(self, frame, event, arg)\u001b[0m\n\u001b[0;32m     49\u001b[0m             \u001b[1;32mreturn\u001b[0m \u001b[1;31m# None\u001b[0m\u001b[1;33m\u001b[0m\u001b[0m\n\u001b[0;32m     50\u001b[0m         \u001b[1;32mif\u001b[0m \u001b[0mevent\u001b[0m \u001b[1;33m==\u001b[0m \u001b[1;34m'line'\u001b[0m\u001b[1;33m:\u001b[0m\u001b[1;33m\u001b[0m\u001b[0m\n\u001b[1;32m---> 51\u001b[1;33m             \u001b[1;32mreturn\u001b[0m \u001b[0mself\u001b[0m\u001b[1;33m.\u001b[0m\u001b[0mdispatch_line\u001b[0m\u001b[1;33m(\u001b[0m\u001b[0mframe\u001b[0m\u001b[1;33m)\u001b[0m\u001b[1;33m\u001b[0m\u001b[0m\n\u001b[0m\u001b[0;32m     52\u001b[0m         \u001b[1;32mif\u001b[0m \u001b[0mevent\u001b[0m \u001b[1;33m==\u001b[0m \u001b[1;34m'call'\u001b[0m\u001b[1;33m:\u001b[0m\u001b[1;33m\u001b[0m\u001b[0m\n\u001b[0;32m     53\u001b[0m             \u001b[1;32mreturn\u001b[0m \u001b[0mself\u001b[0m\u001b[1;33m.\u001b[0m\u001b[0mdispatch_call\u001b[0m\u001b[1;33m(\u001b[0m\u001b[0mframe\u001b[0m\u001b[1;33m,\u001b[0m \u001b[0marg\u001b[0m\u001b[1;33m)\u001b[0m\u001b[1;33m\u001b[0m\u001b[0m\n",
      "\u001b[1;32m~\\Anaconda3\\lib\\bdb.py\u001b[0m in \u001b[0;36mdispatch_line\u001b[1;34m(self, frame)\u001b[0m\n\u001b[0;32m     68\u001b[0m         \u001b[1;32mif\u001b[0m \u001b[0mself\u001b[0m\u001b[1;33m.\u001b[0m\u001b[0mstop_here\u001b[0m\u001b[1;33m(\u001b[0m\u001b[0mframe\u001b[0m\u001b[1;33m)\u001b[0m \u001b[1;32mor\u001b[0m \u001b[0mself\u001b[0m\u001b[1;33m.\u001b[0m\u001b[0mbreak_here\u001b[0m\u001b[1;33m(\u001b[0m\u001b[0mframe\u001b[0m\u001b[1;33m)\u001b[0m\u001b[1;33m:\u001b[0m\u001b[1;33m\u001b[0m\u001b[0m\n\u001b[0;32m     69\u001b[0m             \u001b[0mself\u001b[0m\u001b[1;33m.\u001b[0m\u001b[0muser_line\u001b[0m\u001b[1;33m(\u001b[0m\u001b[0mframe\u001b[0m\u001b[1;33m)\u001b[0m\u001b[1;33m\u001b[0m\u001b[0m\n\u001b[1;32m---> 70\u001b[1;33m             \u001b[1;32mif\u001b[0m \u001b[0mself\u001b[0m\u001b[1;33m.\u001b[0m\u001b[0mquitting\u001b[0m\u001b[1;33m:\u001b[0m \u001b[1;32mraise\u001b[0m \u001b[0mBdbQuit\u001b[0m\u001b[1;33m\u001b[0m\u001b[0m\n\u001b[0m\u001b[0;32m     71\u001b[0m         \u001b[1;32mreturn\u001b[0m \u001b[0mself\u001b[0m\u001b[1;33m.\u001b[0m\u001b[0mtrace_dispatch\u001b[0m\u001b[1;33m\u001b[0m\u001b[0m\n\u001b[0;32m     72\u001b[0m \u001b[1;33m\u001b[0m\u001b[0m\n",
      "\u001b[1;31mBdbQuit\u001b[0m: "
     ]
    }
   ],
   "source": [
    "# read the raw user trajectories and findout the top month and all the available months for each user\n",
    "\n",
    "dest_intermed_file = \"C:/Users/12sha/Documents/thesislocation/Data/user_vs_availmonth.csv\"\n",
    "geolife_data_source_path = \"C:/Users/12sha/Documents/Geolife Trajectories 1.3/Data/\"\n",
    "user_df = pd.DataFrame()\n",
    "usern_mnth_df = pd.DataFrame()\n",
    "month_list = \"\"\n",
    "\n",
    "for i in range(0, 182):\n",
    "    user = \"{0:0=3d}\".format(i)\n",
    "    month_list = \"\"\n",
    "    for j in range(2007, 2013):\n",
    "        for k in range(1, 13):\n",
    "            \n",
    "            year_month = str(j) + \"{0:0=2d}\".format(k)\n",
    "            file_source_raw = geolife_data_source_path + user + \"/Trajectory/\" + year_month + \"*.plt\"\n",
    "            filenames = glob.glob(file_source_raw)\n",
    "    \n",
    "            #if nothing is read from file\n",
    "            if filenames:\n",
    "                #import pdb; pdb.set_trace()\n",
    "                month_list = month_list + year_month + \",\"\n",
    "    \n",
    "    #----------find top month with highest data\n",
    "    path = geolife_data_source_path + user + \"/Trajectory/*.plt\"\n",
    "    filenames = glob.glob(path)\n",
    "    #Read the files\n",
    "    list_of_dfs = [pd.read_csv(filename, skiprows=6, header = None) for filename in filenames]\n",
    "    #put the data from list into one dataframe\n",
    "    combined_df = pd.concat(list_of_dfs, ignore_index=True)\n",
    "    combined_df.columns = ['Latitude', 'Longitude', '0', 'Altitude', 'NumDays', 'Date', 'Time']\n",
    "    combined_df[\"Timestamp\"] = combined_df[\"Date\"].map(str) + \" \" + combined_df[\"Time\"]\n",
    "    combined_df.Timestamp = pd.to_datetime(combined_df.Timestamp)\n",
    "    combined_df.index = pd.to_datetime(combined_df.Timestamp)\n",
    "    test = pd.DataFrame()\n",
    "    test['count'] = combined_df.groupby(combined_df.index.year * 100 + combined_df.index.month).size() \n",
    "    test['MonthYear'] = test.index\n",
    "    mnth_yr = test['MonthYear'].loc[test['count'] == max(test['count'])]\n",
    "    mnth_yr = mnth_yr.iloc[0]\n",
    "    mnth_yr = str(mnth_yr)\n",
    "    #--------------------------------------------\n",
    "    \n",
    "    top_month = mnth_yr\n",
    "    user_df.loc[i, 'User'] = user\n",
    "    user_df.at[i, 'TopMonth'] = top_month\n",
    "    user_df.at[i, 'DataMonths'] = month_list\n",
    "    \n",
    "user_df.to_csv(dest_intermed_file, sep='\\t', encoding='utf-8')   "
   ]
  },
  {
   "cell_type": "code",
   "execution_count": 32,
   "metadata": {},
   "outputs": [],
   "source": [
    "# Create train and test months for each user\n",
    "\n",
    "dest_file = \"C:/Users/12sha/Documents/thesislocation/Data/user_vs_traintestmonth.csv\"\n",
    "user_tt_df = pd.DataFrame()\n",
    "\n",
    "for i in range(0, 182):\n",
    "\n",
    "    user = str(user_df.loc[i, 'User'])\n",
    "    train_mn = str(user_df.loc[i, 'TopMonth'])\n",
    "    test_mn = \"na\"\n",
    "\n",
    "    # check if next month data is present\n",
    "    date_s = str(user_df.loc[i, 'TopMonth']) + \"01\"\n",
    "    date_d = datetime(year=int(date_s[0:4]), month=int(date_s[4:6]), day=int(date_s[6:8]))\n",
    "    next_mn = date_d + relativedelta(months=1)\n",
    "    next_mn = next_mn.strftime('%Y%m%d')\n",
    "    next_mn = next_mn[:-2]\n",
    "    next_mn_fl = False\n",
    "    datemn_list = user_df.loc[i, \"DataMonths\"].split(',')\n",
    "    if next_mn in datemn_list:\n",
    "        next_mn_fl = True\n",
    "        test_mn = next_mn\n",
    "\n",
    "    # if the next month is not available, take the next or last available month\n",
    "    if next_mn_fl == False:\n",
    "        train_pos = -1\n",
    "        if datemn_list.count(train_mn) == 1:\n",
    "            train_pos = datemn_list.index(train_mn)\n",
    "        \n",
    "        # select next avialable month\n",
    "        if train_pos + 1 < len(datemn_list)-1:\n",
    "            test_mn = datemn_list[train_pos+1]\n",
    "        # select prev avialable month\n",
    "        elif train_pos - 1 >= 0:\n",
    "            test_mn = datemn_list[train_pos-1]\n",
    "        else:\n",
    "            test_mn = \"na\"\n",
    "            \n",
    "    user_tt_df.loc[i, \"User\"] = user\n",
    "    user_tt_df.loc[i, \"TrainMonth\"] = train_mn\n",
    "    user_tt_df.loc[i, \"TestMonth\"] = test_mn\n",
    "#user_tt_df.head()    \n",
    "user_tt_df.to_csv(dest_file, sep='\\t', encoding='utf-8')  "
   ]
  },
  {
   "cell_type": "code",
   "execution_count": 24,
   "metadata": {},
   "outputs": [
    {
     "data": {
      "image/png": "[encoded data removed]",
      "text/plain": [
       "<Figure size 720x576 with 1 Axes>"
      ]
     },
     "metadata": {},
     "output_type": "display_data"
    }
   ],
   "source": [
    "# read the raw user trajectories and findout the months with GPS points in them\n",
    "\n",
    "import matplotlib.pyplot as plt\n",
    "\n",
    "def create_chart(user):\n",
    "    ax = count_df['count'].plot(kind='barh', color = 'coral', \n",
    "                                figsize=(10, 8), legend=True, fontsize=12)\n",
    "    ax.set_title(\"GPS Coordinates Count per Month for user: \" + user, fontsize = 18)\n",
    "    ax.set_xlabel(\"Count\", fontsize=15)\n",
    "    ax.set_ylabel(\"Month\", fontsize=15)\n",
    "    plt.show()\n",
    "    \n",
    "dest_intermed_file = \"C:/Users/12sha/Documents/thesislocation/Data/user_vs_availmonth.csv\"\n",
    "geolife_data_source_path = \"C:/Users/12sha/Documents/Geolife Trajectories 1.3/Data/\"\n",
    "user_df = pd.DataFrame()\n",
    "usern_mnth_df = pd.DataFrame()\n",
    "count_df = pd.DataFrame()\n",
    "month_list = \"\"\n",
    "\n",
    "for i in range(1, 2):\n",
    "    user = \"{0:0=3d}\".format(i)\n",
    "    month_list = \"\"\n",
    "    for j in range(2007, 2013):\n",
    "        for k in range(1, 13):\n",
    "            \n",
    "            year_month = str(j) + \"{0:0=2d}\".format(k)\n",
    "            file_source_raw = geolife_data_source_path + user + \"/Trajectory/\" + year_month + \"*.plt\"\n",
    "            filenames = glob.glob(file_source_raw)\n",
    "    \n",
    "            #if nothing is read from file\n",
    "            if filenames:\n",
    "                #import pdb; pdb.set_trace()\n",
    "                month_list = month_list + year_month + \",\"\n",
    "    \n",
    "    #----------find top month with highest data\n",
    "    path = geolife_data_source_path + user + \"/Trajectory/*.plt\"\n",
    "    filenames = glob.glob(path)\n",
    "    #Read the files\n",
    "    list_of_dfs = [pd.read_csv(filename, skiprows=6, header = None) for filename in filenames]\n",
    "    #put the data from list into one dataframe\n",
    "    combined_df = pd.concat(list_of_dfs, ignore_index=True)\n",
    "    combined_df.columns = ['Latitude', 'Longitude', '0', 'Altitude', 'NumDays', 'Date', 'Time']\n",
    "    combined_df[\"Timestamp\"] = combined_df[\"Date\"].map(str) + \" \" + combined_df[\"Time\"]\n",
    "    combined_df.Timestamp = pd.to_datetime(combined_df.Timestamp)\n",
    "    combined_df.index = pd.to_datetime(combined_df.Timestamp)\n",
    "    \n",
    "    count_df['count'] = combined_df.groupby(combined_df.index.year * 100 + combined_df.index.month).size() \n",
    "    count_df['MonthYear'] = count_df.index\n",
    "    create_chart(user)"
   ]
  },
  {
   "cell_type": "code",
   "execution_count": null,
   "metadata": {},
   "outputs": [],
   "source": []
  }
 ],
 "metadata": {
  "kernelspec": {
   "display_name": "Python 3",
   "language": "python",
   "name": "python3"
  },
  "language_info": {
   "codemirror_mode": {
    "name": "ipython",
    "version": 3
   },
   "file_extension": ".py",
   "mimetype": "text/x-python",
   "name": "python",
   "nbconvert_exporter": "python",
   "pygments_lexer": "ipython3",
   "version": "3.6.5"
  }
 },
 "nbformat": 4,
 "nbformat_minor": 2
}
